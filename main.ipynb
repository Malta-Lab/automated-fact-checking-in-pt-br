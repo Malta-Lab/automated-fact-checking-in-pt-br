{
 "cells": [
  {
   "cell_type": "markdown",
   "id": "27910239",
   "metadata": {},
   "source": [
    "Comando para saber em qual GPU o Ollama está rodando:"
   ]
  },
  {
   "cell_type": "code",
   "execution_count": 3,
   "id": "e8e5e18e",
   "metadata": {},
   "outputs": [
    {
     "name": "stdout",
     "output_type": "stream",
     "text": [
      "|    1   N/A  N/A   2941725      C   /usr/local/bin/ollama            5612MiB |\n"
     ]
    }
   ],
   "source": [
    "!PID=$(pgrep -f 'ollama run') && nvidia-smi | grep \"$PID\""
   ]
  },
  {
   "cell_type": "markdown",
   "id": "7c617c9f",
   "metadata": {},
   "source": [
    "1. Tradução dos datasets Averitec, Fever, Feverous e Liar Raw"
   ]
  },
  {
   "cell_type": "code",
   "execution_count": null,
   "id": "fb006a6a",
   "metadata": {},
   "outputs": [],
   "source": [
    "!cd averitec && python run.py\n",
    "!cd fever && python run.py\n",
    "!cd feverous && python run.py\n",
    "!cd liar-raw && python run.py"
   ]
  },
  {
   "cell_type": "markdown",
   "id": "194c5196",
   "metadata": {},
   "source": [
    "2. Classificação binária dos datasets traduzidos utilizando \"Zero Shot\""
   ]
  },
  {
   "cell_type": "code",
   "execution_count": null,
   "id": "fa2af7d2",
   "metadata": {},
   "outputs": [],
   "source": [
    "!python zero_shot.py"
   ]
  },
  {
   "cell_type": "markdown",
   "id": "0f015d72",
   "metadata": {},
   "source": [
    "3. Gerar um novo JSON do \"Zero Shot\" contendo apenas as \"claims\" e a classificação"
   ]
  },
  {
   "cell_type": "code",
   "execution_count": null,
   "id": "3772f629",
   "metadata": {},
   "outputs": [],
   "source": [
    "!python zero_shot_only_claims.py"
   ]
  }
 ],
 "metadata": {
  "kernelspec": {
   "display_name": "base",
   "language": "python",
   "name": "python3"
  },
  "language_info": {
   "codemirror_mode": {
    "name": "ipython",
    "version": 3
   },
   "file_extension": ".py",
   "mimetype": "text/x-python",
   "name": "python",
   "nbconvert_exporter": "python",
   "pygments_lexer": "ipython3",
   "version": "3.13.2"
  }
 },
 "nbformat": 4,
 "nbformat_minor": 5
}
