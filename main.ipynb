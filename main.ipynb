{
 "cells": [
  {
   "cell_type": "markdown",
   "id": "7c617c9f",
   "metadata": {},
   "source": [
    "Tradução do dataset Averitec"
   ]
  },
  {
   "cell_type": "code",
   "execution_count": null,
   "id": "fb006a6a",
   "metadata": {},
   "outputs": [],
   "source": [
    "!cd averitec && python run.py"
   ]
  },
  {
   "cell_type": "markdown",
   "id": "52a1990f",
   "metadata": {},
   "source": [
    "Tradução do dataset Fever"
   ]
  },
  {
   "cell_type": "code",
   "execution_count": null,
   "id": "f5917d99",
   "metadata": {},
   "outputs": [],
   "source": [
    "!cd fever && python run.py"
   ]
  },
  {
   "cell_type": "markdown",
   "id": "5a30c6d5",
   "metadata": {},
   "source": [
    "Tradução do dataset Feverous"
   ]
  },
  {
   "cell_type": "code",
   "execution_count": null,
   "id": "a40a1d4c",
   "metadata": {},
   "outputs": [],
   "source": [
    "!cd feverous && python run.py"
   ]
  },
  {
   "cell_type": "markdown",
   "id": "44d2c10c",
   "metadata": {},
   "source": [
    "Tradução do dataset Liar RAW\n"
   ]
  },
  {
   "cell_type": "code",
   "execution_count": 3,
   "id": "55a9de2c",
   "metadata": {},
   "outputs": [
    {
     "name": "stdout",
     "output_type": "stream",
     "text": [
      "\n",
      "🚀 Inicializando modelo 'gemma3:4b'...\n",
      "✅ Modelo 'gemma3:4b' está pronto.\n",
      "\n",
      "🔁 Iniciando traduções com modelo: gemma3-4b\n",
      "\n",
      "📂 Processando arquivo: test.json\n",
      "Traduzindo test.json: 0it [00:00, ?it/s]\n",
      "✅ Tradução salva em: results/gemma3-4b/test.json\n",
      "\n",
      "📂 Processando arquivo: val.json\n",
      "Traduzindo val.json: 0it [00:00, ?it/s]\n",
      "✅ Tradução salva em: results/gemma3-4b/val.json\n",
      "\n",
      "📂 Processando arquivo: train.json\n",
      "Traduzindo train.json:  14%|██▏            | 318/2195 [29:21<3:03:09,  5.85s/it]^C\n"
     ]
    }
   ],
   "source": [
    "!cd liar-raw && python run.py"
   ]
  },
  {
   "cell_type": "markdown",
   "id": "194c5196",
   "metadata": {},
   "source": [
    "Classificação binária dos datasets traduzidos utilizando \"Zero Shot\""
   ]
  },
  {
   "cell_type": "code",
   "execution_count": null,
   "id": "fa2af7d2",
   "metadata": {},
   "outputs": [],
   "source": [
    "!python zero_shot.py"
   ]
  }
 ],
 "metadata": {
  "kernelspec": {
   "display_name": "base",
   "language": "python",
   "name": "python3"
  },
  "language_info": {
   "codemirror_mode": {
    "name": "ipython",
    "version": 3
   },
   "file_extension": ".py",
   "mimetype": "text/x-python",
   "name": "python",
   "nbconvert_exporter": "python",
   "pygments_lexer": "ipython3",
   "version": "3.13.2"
  }
 },
 "nbformat": 4,
 "nbformat_minor": 5
}
