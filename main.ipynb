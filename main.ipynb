{
 "cells": [
  {
   "cell_type": "markdown",
   "id": "27910239",
   "metadata": {},
   "source": [
    "Comando para saber em qual GPU o Ollama está rodando:"
   ]
  },
  {
   "cell_type": "code",
   "execution_count": null,
   "id": "e8e5e18e",
   "metadata": {},
   "outputs": [],
   "source": [
    "!PID=$(pgrep -f 'ollama run') && nvidia-smi | grep \"$PID\""
   ]
  },
  {
   "cell_type": "markdown",
   "id": "7c617c9f",
   "metadata": {},
   "source": [
    "1. Tradução dos datasets Averitec, Fever, Feverous e Liar Raw"
   ]
  },
  {
   "cell_type": "code",
   "execution_count": null,
   "id": "fb006a6a",
   "metadata": {},
   "outputs": [],
   "source": [
    "!cd averitec && python run.py"
   ]
  },
  {
   "cell_type": "code",
   "execution_count": null,
   "id": "d6c4bacb",
   "metadata": {},
   "outputs": [],
   "source": [
    "!cd fever && python run.py"
   ]
  },
  {
   "cell_type": "code",
   "execution_count": null,
   "id": "b49ddcd8",
   "metadata": {},
   "outputs": [],
   "source": [
    "!cd feverous && python run.py"
   ]
  },
  {
   "cell_type": "code",
   "execution_count": null,
   "id": "d202c00b",
   "metadata": {},
   "outputs": [],
   "source": [
    "!cd liar-raw && python run.py"
   ]
  },
  {
   "cell_type": "markdown",
   "id": "194c5196",
   "metadata": {},
   "source": [
    "2. Classificação binária dos datasets traduzidos utilizando \"Zero Shot\""
   ]
  },
  {
   "cell_type": "code",
   "execution_count": null,
   "id": "fa2af7d2",
   "metadata": {},
   "outputs": [],
   "source": [
    "!python zero_shot.py"
   ]
  },
  {
   "cell_type": "markdown",
   "id": "0f015d72",
   "metadata": {},
   "source": [
    "3. Gerar um novo JSON do \"Zero Shot\" contendo apenas as \"claims\" e a classificação"
   ]
  },
  {
   "cell_type": "code",
   "execution_count": null,
   "id": "3772f629",
   "metadata": {},
   "outputs": [],
   "source": [
    "!python zero_shot_only_claims.py"
   ]
  },
  {
   "cell_type": "markdown",
   "id": "6a09f313",
   "metadata": {},
   "source": [
    "4. Faz a contagem de frases duplicadas no arquivo especificado:"
   ]
  },
  {
   "cell_type": "code",
   "execution_count": null,
   "id": "d6ed0a0a",
   "metadata": {},
   "outputs": [],
   "source": [
    "import json\n",
    "from pathlib import Path\n",
    "from collections import Counter\n",
    "\n",
    "# === CONFIGURAÇÕES ===\n",
    "ARQUIVO_ENTRADA = \"zero_shot.json\"  # Substitua pelo nome do seu arquivo\n",
    "\n",
    "def contar_frases_duplicadas(caminho_entrada: str):\n",
    "    with open(caminho_entrada, \"r\", encoding=\"utf-8\") as f:\n",
    "        dados = json.load(f)\n",
    "\n",
    "    frases = list(dados.keys())\n",
    "    contagem = Counter(frases)\n",
    "    duplicadas = {frase: qtd for frase, qtd in contagem.items() if qtd > 1}\n",
    "\n",
    "    total_duplicadas = sum(qtd - 1 for qtd in duplicadas.values())\n",
    "\n",
    "    print(f\"🔍 Total de frases: {len(frases)}\")\n",
    "    print(f\"❗ Frases únicas: {len(set(frases))}\")\n",
    "    print(f\"⚠️ Frases duplicadas: {len(duplicadas)} (com {total_duplicadas} ocorrências extras)\")\n",
    "    \n",
    "    if duplicadas:\n",
    "        print(\"\\n📝 Exemplos de frases duplicadas:\")\n",
    "        for frase, qtd in list(duplicadas.items())[:5]:  # mostra até 5 exemplos\n",
    "            print(f\"  - \\\"{frase}\\\" (aparece {qtd} vezes)\")\n",
    "\n",
    "if __name__ == \"__main__\":\n",
    "    contar_frases_duplicadas(ARQUIVO_ENTRADA)\n"
   ]
  }
 ],
 "metadata": {
  "kernelspec": {
   "display_name": "base",
   "language": "python",
   "name": "python3"
  },
  "language_info": {
   "codemirror_mode": {
    "name": "ipython",
    "version": 3
   },
   "file_extension": ".py",
   "mimetype": "text/x-python",
   "name": "python",
   "nbconvert_exporter": "python",
   "pygments_lexer": "ipython3",
   "version": "3.13.2"
  }
 },
 "nbformat": 4,
 "nbformat_minor": 5
}
