{
 "cells": [
  {
   "cell_type": "markdown",
   "id": "0f015d72",
   "metadata": {},
   "source": [
    "1. Resultados do Zero Shot (Only Statement)"
   ]
  },
  {
   "cell_type": "code",
   "execution_count": 9,
   "id": "3772f629",
   "metadata": {},
   "outputs": [
    {
     "name": "stdout",
     "output_type": "stream",
     "text": [
      "\n",
      "📊 Avaliação geral\n",
      "Claims comparadas: 12773\n",
      "Acertos exatos: 2631 (20.6%)\n",
      "\n",
      "\n",
      "📊 Matriz de Confusão (label verdadeiro × classificação do modelo):\n",
      "\n",
      "                                                  pants-fire                    false              barely-true                half-true              mostly-true                     true\n",
      "pants-fire                                                61                      230                      358                      395                        1                        2\n",
      "false                                                     28                      340                      899                     1207                       12                       12\n",
      "barely-true                                               13                      243                      833                      991                       16                        7\n",
      "half-true                                                 23                      245                      975                     1352                       23                        6\n",
      "mostly-true                                               18                      173                      912                     1305                       36                        9\n",
      "true                                                      12                      153                      690                     1162                       22                        9\n",
      "\n",
      "📋 Classification Report:\n",
      "\n",
      "              precision    recall  f1-score   support\n",
      "\n",
      "  pants-fire      0.394     0.058     0.101      1047\n",
      "       false      0.246     0.136     0.175      2498\n",
      " barely-true      0.178     0.396     0.246      2103\n",
      "   half-true      0.211     0.515     0.299      2624\n",
      " mostly-true      0.327     0.015     0.028      2453\n",
      "        true      0.200     0.004     0.009      2048\n",
      "\n",
      "    accuracy                          0.206     12773\n",
      "   macro avg      0.259     0.187     0.143     12773\n",
      "weighted avg      0.248     0.206     0.151     12773\n",
      "\n",
      "\n",
      "📐 Erros Ordinais:\n",
      "Erro médio: 1.703\n",
      "Erro mediano: 2.0\n",
      "Erro moda: 1\n",
      "QWK (Cohen Kappa Quadrático): 0.1062\n",
      "Total de exemplos avaliados: 12773\n"
     ]
    }
   ],
   "source": [
    "!python scripts/report.py \"./results/gemma3-4b/zero_shot_only_statement.json\""
   ]
  },
  {
   "cell_type": "markdown",
   "id": "3fbeee49",
   "metadata": {},
   "source": [
    "2. Resultados do Zero Shot (All)"
   ]
  },
  {
   "cell_type": "code",
   "execution_count": 10,
   "id": "3e4daccd",
   "metadata": {},
   "outputs": [
    {
     "name": "stdout",
     "output_type": "stream",
     "text": [
      "\n",
      "📊 Avaliação geral\n",
      "Claims comparadas: 12773\n",
      "Acertos exatos: 2491 (19.5%)\n",
      "\n",
      "\n",
      "📊 Matriz de Confusão (label verdadeiro × classificação do modelo):\n",
      "\n",
      "                                                  pants-fire                    false              barely-true                half-true              mostly-true                     true\n",
      "pants-fire                                                49                      416                      441                      136                        2                        3\n",
      "false                                                     27                      634                     1324                      506                        2                        5\n",
      "barely-true                                               13                      457                     1197                      435                        0                        1\n",
      "half-true                                                 20                      445                     1548                      604                        4                        3\n",
      "mostly-true                                               16                      348                     1500                      581                        5                        3\n",
      "true                                                       7                      302                     1227                      507                        3                        2\n",
      "\n",
      "📋 Classification Report:\n",
      "\n",
      "              precision    recall  f1-score   support\n",
      "\n",
      "  pants-fire      0.371     0.047     0.083      1047\n",
      "       false      0.244     0.254     0.249      2498\n",
      " barely-true      0.165     0.569     0.256      2103\n",
      "   half-true      0.218     0.230     0.224      2624\n",
      " mostly-true      0.312     0.002     0.004      2453\n",
      "        true      0.118     0.001     0.002      2048\n",
      "\n",
      "    accuracy                          0.195     12773\n",
      "   macro avg      0.238     0.184     0.136     12773\n",
      "weighted avg      0.229     0.195     0.145     12773\n",
      "\n",
      "\n",
      "📐 Erros Ordinais:\n",
      "Erro médio: 1.768\n",
      "Erro mediano: 2.0\n",
      "Erro moda: 1\n",
      "QWK (Cohen Kappa Quadrático): 0.0956\n",
      "Total de exemplos avaliados: 12773\n"
     ]
    }
   ],
   "source": [
    "!python scripts/report.py \"./results/gemma3-4b/zero_shot_all.json\""
   ]
  },
  {
   "cell_type": "markdown",
   "id": "a1e96985",
   "metadata": {},
   "source": [
    "3. Resultados do Few Shot (Only Statement)"
   ]
  },
  {
   "cell_type": "code",
   "execution_count": 21,
   "id": "f3feb834",
   "metadata": {},
   "outputs": [
    {
     "name": "stdout",
     "output_type": "stream",
     "text": [
      "\n",
      "📊 Avaliação geral\n",
      "Claims comparadas: 12773\n",
      "Acertos exatos: 2591 (20.3%)\n",
      "\n",
      "\n",
      "📊 Matriz de Confusão (label verdadeiro × classificação do modelo):\n",
      "\n",
      "                                                  pants-fire                    false              barely-true                half-true              mostly-true                     true\n",
      "pants-fire                                               473                      258                      152                       95                       46                       23\n",
      "false                                                    642                      696                      486                      396                      222                       56\n",
      "barely-true                                              465                      583                      432                      351                      226                       46\n",
      "half-true                                                462                      663                      506                      504                      415                       74\n",
      "mostly-true                                              342                      560                      536                      516                      423                       76\n",
      "true                                                     345                      463                      399                      446                      332                       63\n",
      "\n",
      "📋 Classification Report:\n",
      "\n",
      "              precision    recall  f1-score   support\n",
      "\n",
      "  pants-fire      0.173     0.452     0.251      1047\n",
      "       false      0.216     0.279     0.243      2498\n",
      " barely-true      0.172     0.205     0.187      2103\n",
      "   half-true      0.218     0.192     0.204      2624\n",
      " mostly-true      0.254     0.172     0.205      2453\n",
      "        true      0.186     0.031     0.053      2048\n",
      "\n",
      "    accuracy                          0.203     12773\n",
      "   macro avg      0.203     0.222     0.191     12773\n",
      "weighted avg      0.208     0.203     0.189     12773\n",
      "\n",
      "\n",
      "📐 Erros Ordinais:\n",
      "Erro médio: 2.053\n",
      "Erro mediano: 2.0\n",
      "Erro moda: 1\n",
      "QWK (Cohen Kappa Quadrático): 0.1625\n",
      "Total de exemplos avaliados: 12773\n"
     ]
    }
   ],
   "source": [
    "!python scripts/report.py \"./results/gemma3-4b/few_shot_only_statement.json\""
   ]
  },
  {
   "cell_type": "markdown",
   "id": "04efcdc2",
   "metadata": {},
   "source": [
    "4. Resultados do Few Shot (All)"
   ]
  },
  {
   "cell_type": "code",
   "execution_count": 12,
   "id": "d6f414f2",
   "metadata": {},
   "outputs": [
    {
     "name": "stdout",
     "output_type": "stream",
     "text": [
      "\n",
      "📊 Avaliação geral\n",
      "Claims comparadas: 12773\n",
      "Acertos exatos: 2515 (19.7%)\n",
      "\n",
      "\n",
      "📊 Matriz de Confusão (label verdadeiro × classificação do modelo):\n",
      "\n",
      "                                                  pants-fire                    false              barely-true                half-true              mostly-true                     true\n",
      "pants-fire                                               331                      427                      206                       58                        1                       24\n",
      "false                                                    434                     1017                      692                      284                        6                       65\n",
      "barely-true                                              324                      850                      622                      243                       10                       54\n",
      "half-true                                                343                      928                      815                      420                       19                       99\n",
      "mostly-true                                              226                      884                      833                      396                       21                       93\n",
      "true                                                     228                      771                      587                      347                       11                      104\n",
      "\n",
      "📋 Classification Report:\n",
      "\n",
      "              precision    recall  f1-score   support\n",
      "\n",
      "  pants-fire      0.176     0.316     0.226      1047\n",
      "       false      0.209     0.407     0.276      2498\n",
      " barely-true      0.166     0.296     0.212      2103\n",
      "   half-true      0.240     0.160     0.192      2624\n",
      " mostly-true      0.309     0.009     0.017      2453\n",
      "        true      0.237     0.051     0.084      2048\n",
      "\n",
      "    accuracy                          0.197     12773\n",
      "   macro avg      0.223     0.206     0.168     12773\n",
      "weighted avg      0.229     0.197     0.163     12773\n",
      "\n",
      "\n",
      "📐 Erros Ordinais:\n",
      "Erro médio: 2.081\n",
      "Erro mediano: 2.0\n",
      "Erro moda: 1\n",
      "QWK (Cohen Kappa Quadrático): 0.1082\n",
      "Total de exemplos avaliados: 12773\n"
     ]
    }
   ],
   "source": [
    "!python scripts/report.py \"./results/gemma3-4b/few_shot_all.json\""
   ]
  }
 ],
 "metadata": {
  "kernelspec": {
   "display_name": "base",
   "language": "python",
   "name": "python3"
  },
  "language_info": {
   "codemirror_mode": {
    "name": "ipython",
    "version": 3
   },
   "file_extension": ".py",
   "mimetype": "text/x-python",
   "name": "python",
   "nbconvert_exporter": "python",
   "pygments_lexer": "ipython3",
   "version": "3.13.2"
  }
 },
 "nbformat": 4,
 "nbformat_minor": 5
}
