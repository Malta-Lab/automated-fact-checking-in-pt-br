{
 "cells": [
  {
   "cell_type": "markdown",
   "id": "0f015d72",
   "metadata": {},
   "source": [
    "1. Resultados do Zero Shot (Only Statement)"
   ]
  },
  {
   "cell_type": "code",
   "execution_count": 35,
   "id": "3772f629",
   "metadata": {},
   "outputs": [
    {
     "name": "stdout",
     "output_type": "stream",
     "text": [
      "\n",
      "📊 Overall Evaluation\n",
      "Matched claims: 12765\n",
      "Exact matches: 2804 (22.0%)\n",
      "\n",
      "\n",
      "📊 Confusion Matrix (True Label × Predicted Label):\n",
      "\n",
      "                                                  pants-fire                    false              barely-true                half-true              mostly-true                     true\n",
      "pants-fire                                                 8                      782                       80                       14                      159                        4\n",
      "false                                                      6                     1572                      291                       61                      556                        6\n",
      "barely-true                                                9                     1225                      200                       65                      599                        5\n",
      "half-true                                                 10                     1338                      249                       69                      949                        7\n",
      "mostly-true                                                5                     1142                      260                       94                      948                        4\n",
      "true                                                       3                      943                      235                       57                      803                        7\n",
      "\n",
      "📋 Classification Report:\n",
      "\n",
      "              precision    recall  f1-score   support\n",
      "\n",
      "  pants-fire      0.195     0.008     0.015      1047\n",
      "       false      0.225     0.631     0.331      2492\n",
      " barely-true      0.152     0.095     0.117      2103\n",
      "   half-true      0.192     0.026     0.046      2622\n",
      " mostly-true      0.236     0.386     0.293      2453\n",
      "        true      0.212     0.003     0.007      2048\n",
      "\n",
      "    accuracy                          0.220     12765\n",
      "   macro avg      0.202     0.192     0.135     12765\n",
      "weighted avg      0.204     0.220     0.152     12765\n",
      "\n",
      "\n",
      "📐 Ordinal Errors:\n",
      "Mean error: 1.974\n",
      "Median error: 2.0\n",
      "Mode error: 1\n",
      "QWK (Quadratic Weighted Kappa): 0.1628\n",
      "Total evaluated examples: 12765\n"
     ]
    }
   ],
   "source": [
    "!python scripts/report.py \"./results/gemma3-4b/zero_shot_only_statement.json\""
   ]
  },
  {
   "cell_type": "markdown",
   "id": "3fbeee49",
   "metadata": {},
   "source": [
    "2. Resultados do Zero Shot (All)"
   ]
  },
  {
   "cell_type": "code",
   "execution_count": 36,
   "id": "3e4daccd",
   "metadata": {},
   "outputs": [
    {
     "name": "stdout",
     "output_type": "stream",
     "text": [
      "\n",
      "📊 Overall Evaluation\n",
      "Matched claims: 12765\n",
      "Exact matches: 2807 (22.0%)\n",
      "\n",
      "\n",
      "📊 Confusion Matrix (True Label × Predicted Label):\n",
      "\n",
      "                                                  pants-fire                    false              barely-true                half-true              mostly-true                     true\n",
      "pants-fire                                               128                      672                       30                       72                      143                        2\n",
      "false                                                    132                     1404                      100                      242                      612                        2\n",
      "barely-true                                              118                     1131                       48                      256                      544                        6\n",
      "half-true                                                136                     1264                       53                      299                      867                        3\n",
      "mostly-true                                               82                     1101                       52                      294                      924                        0\n",
      "true                                                      70                      892                       55                      216                      811                        4\n",
      "\n",
      "📋 Classification Report:\n",
      "\n",
      "              precision    recall  f1-score   support\n",
      "\n",
      "  pants-fire      0.192     0.122     0.149      1047\n",
      "       false      0.217     0.563     0.314      2492\n",
      " barely-true      0.142     0.023     0.039      2103\n",
      "   half-true      0.217     0.114     0.149      2622\n",
      " mostly-true      0.237     0.377     0.291      2453\n",
      "        true      0.235     0.002     0.004      2048\n",
      "\n",
      "    accuracy                          0.220     12765\n",
      "   macro avg      0.207     0.200     0.158     12765\n",
      "weighted avg      0.209     0.220     0.167     12765\n",
      "\n",
      "\n",
      "📐 Ordinal Errors:\n",
      "Mean error: 2.012\n",
      "Median error: 2.0\n",
      "Mode error: 1\n",
      "QWK (Quadratic Weighted Kappa): 0.1624\n",
      "Total evaluated examples: 12765\n"
     ]
    }
   ],
   "source": [
    "!python scripts/report.py \"./results/gemma3-4b/zero_shot_all.json\""
   ]
  },
  {
   "cell_type": "markdown",
   "id": "a1e96985",
   "metadata": {},
   "source": [
    "3. Resultados do Few Shot (Only Statement)"
   ]
  },
  {
   "cell_type": "code",
   "execution_count": 37,
   "id": "f3feb834",
   "metadata": {},
   "outputs": [
    {
     "name": "stdout",
     "output_type": "stream",
     "text": [
      "\n",
      "📊 Overall Evaluation\n",
      "Matched claims: 12765\n",
      "Exact matches: 1837 (14.4%)\n",
      "\n",
      "\n",
      "📊 Confusion Matrix (True Label × Predicted Label):\n",
      "\n",
      "                                                  pants-fire                    false              barely-true                half-true              mostly-true                     true\n",
      "pants-fire                                               899                       29                       31                       32                       39                       17\n",
      "false                                                   1891                       81                      157                      121                      175                       67\n",
      "barely-true                                             1586                       50                      125                      115                      168                       59\n",
      "half-true                                               1732                       61                      147                      213                      378                       91\n",
      "mostly-true                                             1470                       46                      184                      210                      428                      115\n",
      "true                                                    1243                       39                      160                      176                      339                       91\n",
      "\n",
      "📋 Classification Report:\n",
      "\n",
      "              precision    recall  f1-score   support\n",
      "\n",
      "  pants-fire      0.102     0.859     0.182      1047\n",
      "       false      0.265     0.033     0.058      2492\n",
      " barely-true      0.155     0.059     0.086      2103\n",
      "   half-true      0.246     0.081     0.122      2622\n",
      " mostly-true      0.280     0.174     0.215      2453\n",
      "        true      0.207     0.044     0.073      2048\n",
      "\n",
      "    accuracy                          0.144     12765\n",
      "   macro avg      0.209     0.208     0.123     12765\n",
      "weighted avg      0.223     0.144     0.119     12765\n",
      "\n",
      "\n",
      "📐 Ordinal Errors:\n",
      "Mean error: 2.529\n",
      "Median error: 2.0\n",
      "Mode error: 1\n",
      "QWK (Quadratic Weighted Kappa): 0.1163\n",
      "Total evaluated examples: 12765\n"
     ]
    }
   ],
   "source": [
    "!python scripts/report.py \"./results/gemma3-4b/few_shot_only_statement.json\""
   ]
  },
  {
   "cell_type": "markdown",
   "id": "04efcdc2",
   "metadata": {},
   "source": [
    "4. Resultados do Few Shot (All)"
   ]
  },
  {
   "cell_type": "code",
   "execution_count": 38,
   "id": "d6f414f2",
   "metadata": {},
   "outputs": [
    {
     "name": "stdout",
     "output_type": "stream",
     "text": [
      "\n",
      "📊 Overall Evaluation\n",
      "Matched claims: 12765\n",
      "Exact matches: 1173 (9.2%)\n",
      "\n",
      "\n",
      "📊 Confusion Matrix (True Label × Predicted Label):\n",
      "\n",
      "                                                  pants-fire                    false              barely-true                half-true              mostly-true                     true\n",
      "pants-fire                                              1030                        2                       15                        0                        0                        0\n",
      "false                                                   2373                       20                       90                        3                        3                        3\n",
      "barely-true                                             1999                        7                       89                        1                        5                        2\n",
      "half-true                                               2420                       16                      161                        7                       14                        4\n",
      "mostly-true                                             2171                       20                      235                        4                       17                        6\n",
      "true                                                    1809                       16                      187                        5                       21                       10\n",
      "\n",
      "📋 Classification Report:\n",
      "\n",
      "              precision    recall  f1-score   support\n",
      "\n",
      "  pants-fire      0.087     0.984     0.160      1047\n",
      "       false      0.247     0.008     0.016      2492\n",
      " barely-true      0.115     0.042     0.062      2103\n",
      "   half-true      0.350     0.003     0.005      2622\n",
      " mostly-true      0.283     0.007     0.014      2453\n",
      "        true      0.400     0.005     0.010      2048\n",
      "\n",
      "    accuracy                          0.092     12765\n",
      "   macro avg      0.247     0.175     0.044     12765\n",
      "weighted avg      0.265     0.092     0.032     12765\n",
      "\n",
      "\n",
      "📐 Ordinal Errors:\n",
      "Mean error: 2.842\n",
      "Median error: 3.0\n",
      "Mode error: 1\n",
      "QWK (Quadratic Weighted Kappa): 0.025\n",
      "Total evaluated examples: 12765\n"
     ]
    }
   ],
   "source": [
    "!python scripts/report.py \"./results/gemma3-4b/few_shot_all.json\""
   ]
  }
 ],
 "metadata": {
  "kernelspec": {
   "display_name": "desinformacao",
   "language": "python",
   "name": "python3"
  },
  "language_info": {
   "codemirror_mode": {
    "name": "ipython",
    "version": 3
   },
   "file_extension": ".py",
   "mimetype": "text/x-python",
   "name": "python",
   "nbconvert_exporter": "python",
   "pygments_lexer": "ipython3",
   "version": "3.12.9"
  }
 },
 "nbformat": 4,
 "nbformat_minor": 5
}
