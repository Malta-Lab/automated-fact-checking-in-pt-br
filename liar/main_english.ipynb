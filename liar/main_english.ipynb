{
 "cells": [
  {
   "cell_type": "markdown",
   "id": "27910239",
   "metadata": {},
   "source": [
    "Comando para saber em qual GPU o Ollama está rodando:"
   ]
  },
  {
   "cell_type": "code",
   "execution_count": 1,
   "id": "e8e5e18e",
   "metadata": {},
   "outputs": [],
   "source": [
    "!PID=$(pgrep -f 'ollama run') && nvidia-smi | grep \"$PID\""
   ]
  },
  {
   "cell_type": "markdown",
   "id": "05489e87",
   "metadata": {},
   "source": [
    "<strong>⚠️ Se o output ficar \"truncated\", selecione \"scrollable element\" para conseguir visualizar todo o conteúdo.</strong>\n"
   ]
  },
  {
   "cell_type": "markdown",
   "id": "0f015d72",
   "metadata": {},
   "source": [
    "1. LIAR - Resultados do Zero Shot (Only Statement)"
   ]
  },
  {
   "cell_type": "code",
   "execution_count": 2,
   "id": "3772f629",
   "metadata": {},
   "outputs": [
    {
     "name": "stdout",
     "output_type": "stream",
     "text": [
      "🔍 Processando test.jsonl\n",
      "🔍 Processando train.jsonl\n",
      "🔍 Processando valid.jsonl\n",
      "\n",
      "📊 Avaliação geral\n",
      "Claims comparadas: 12776\n",
      "Acertos exatos: 2706 (21.2%)\n",
      "\n",
      "\n",
      "📊 Matriz de Confusão (label verdadeiro × classificação do modelo):\n",
      "\n",
      "                                                        true                    false                half-true               pants-fire              barely-true              mostly-true\n",
      "true                                                      75                      992                      364                      126                      266                      226\n",
      "false                                                     48                     1613                      348                      226                      151                      116\n",
      "half-true                                                 54                     1367                      465                      229                      252                      258\n",
      "pants-fire                                                20                      734                       83                      137                       40                       32\n",
      "barely-true                                               42                     1238                      331                      209                      155                      125\n",
      "mostly-true                                               68                     1136                      496                      189                      304                      261\n",
      "\n",
      "📋 Classification Report:\n",
      "\n",
      "              precision    recall  f1-score   support\n",
      "\n",
      "        true      0.244     0.037     0.064      2049\n",
      "       false      0.228     0.645     0.337      2502\n",
      "   half-true      0.223     0.177     0.197      2625\n",
      "  pants-fire      0.123     0.131     0.127      1046\n",
      " barely-true      0.133     0.074     0.095      2100\n",
      " mostly-true      0.256     0.106     0.150      2454\n",
      "\n",
      "    accuracy                          0.212     12776\n",
      "   macro avg      0.201     0.195     0.162     12776\n",
      "weighted avg      0.211     0.212     0.172     12776\n",
      "\n"
     ]
    }
   ],
   "source": [
    "!python scripts_english/report.py \"./results_english/zero_shot_only_statement_en.json\""
   ]
  },
  {
   "cell_type": "markdown",
   "id": "3fbeee49",
   "metadata": {},
   "source": [
    "2. LIAR - Resultados do Zero Shot (All)"
   ]
  },
  {
   "cell_type": "code",
   "execution_count": 3,
   "id": "3e4daccd",
   "metadata": {},
   "outputs": [
    {
     "name": "stdout",
     "output_type": "stream",
     "text": [
      "🔍 Processando test.jsonl\n",
      "🔍 Processando train.jsonl\n",
      "🔍 Processando valid.jsonl\n",
      "\n",
      "📊 Avaliação geral\n",
      "Claims comparadas: 12737\n",
      "Acertos exatos: 2491 (19.6%)\n",
      "\n",
      "\n",
      "📊 Matriz de Confusão (label verdadeiro × classificação do modelo):\n",
      "\n",
      "                                                        true                    false                half-true               pants-fire              barely-true              mostly-true\n",
      "true                                                      30                      390                      497                      487                       58                      580\n",
      "false                                                     16                      585                      562                      949                       53                      334\n",
      "half-true                                                 26                      441                      694                      897                       41                      516\n",
      "pants-fire                                                15                      278                      140                      525                       10                       75\n",
      "barely-true                                               19                      391                      544                      828                       37                      273\n",
      "mostly-true                                               28                      403                      685                      653                       57                      620\n",
      "\n",
      "📋 Classification Report:\n",
      "\n",
      "              precision    recall  f1-score   support\n",
      "\n",
      "        true      0.224     0.015     0.028      2042\n",
      "       false      0.235     0.234     0.235      2499\n",
      "   half-true      0.222     0.265     0.242      2615\n",
      "  pants-fire      0.121     0.503     0.195      1043\n",
      " barely-true      0.145     0.018     0.032      2092\n",
      " mostly-true      0.259     0.253     0.256      2446\n",
      "\n",
      "    accuracy                          0.196     12737\n",
      "   macro avg      0.201     0.215     0.164     12737\n",
      "weighted avg      0.211     0.196     0.170     12737\n",
      "\n"
     ]
    }
   ],
   "source": [
    "!python scripts_english/report.py \"./results_english/zero_shot_all_en.json\""
   ]
  },
  {
   "cell_type": "markdown",
   "id": "a1e96985",
   "metadata": {},
   "source": [
    "3. LIAR - Resultados do Few Shot (Only Statement)"
   ]
  },
  {
   "cell_type": "code",
   "execution_count": 4,
   "id": "f3feb834",
   "metadata": {},
   "outputs": [
    {
     "name": "stdout",
     "output_type": "stream",
     "text": [
      "🔍 Processando test.jsonl\n",
      "🔍 Processando train.jsonl\n",
      "🔍 Processando valid.jsonl\n",
      "\n",
      "📊 Avaliação geral\n",
      "Claims comparadas: 11514\n",
      "Acertos exatos: 1357 (11.8%)\n",
      "\n",
      "\n",
      "📊 Matriz de Confusão (label verdadeiro × classificação do modelo):\n",
      "\n",
      "                                                        true                    false                half-true               pants-fire              barely-true              mostly-true\n",
      "true                                                      80                        0                       18                     1454                       21                      308\n",
      "false                                                     33                        7                       13                     2038                       15                      145\n",
      "half-true                                                 48                        2                       14                     1986                       13                      285\n",
      "pants-fire                                                14                        3                        3                      876                        2                       30\n",
      "barely-true                                               37                        4                        6                     1673                       10                      143\n",
      "mostly-true                                               62                        4                       12                     1771                       14                      370\n",
      "\n",
      "📋 Classification Report:\n",
      "\n",
      "              precision    recall  f1-score   support\n",
      "\n",
      "        true      0.292     0.043     0.074      1881\n",
      "       false      0.350     0.003     0.006      2251\n",
      "   half-true      0.212     0.006     0.012      2348\n",
      "  pants-fire      0.089     0.944     0.163       928\n",
      " barely-true      0.133     0.005     0.010      1873\n",
      " mostly-true      0.289     0.166     0.211      2233\n",
      "\n",
      "    accuracy                          0.118     11514\n",
      "   macro avg      0.228     0.194     0.079     11514\n",
      "weighted avg      0.244     0.118     0.071     11514\n",
      "\n"
     ]
    }
   ],
   "source": [
    "!python scripts_english/report.py \"./results_english/few_shot_only_statement_en.json\""
   ]
  },
  {
   "cell_type": "markdown",
   "id": "04efcdc2",
   "metadata": {},
   "source": [
    "4. LIAR - Resultados do Few Shot (All)"
   ]
  },
  {
   "cell_type": "code",
   "execution_count": 5,
   "id": "d6f414f2",
   "metadata": {},
   "outputs": [
    {
     "name": "stdout",
     "output_type": "stream",
     "text": [
      "🔍 Processando test.jsonl\n",
      "🔍 Processando train.jsonl\n",
      "🔍 Processando valid.jsonl\n",
      "\n",
      "📊 Avaliação geral\n",
      "Claims comparadas: 3124\n",
      "Acertos exatos: 625 (20.0%)\n",
      "\n",
      "\n",
      "📊 Matriz de Confusão (label verdadeiro × classificação do modelo):\n",
      "\n",
      "                                                        true                    false                half-true               pants-fire              barely-true              mostly-true\n",
      "true                                                     114                      243                        2                       63                       93                      146\n",
      "false                                                     75                      318                        5                       79                       62                       54\n",
      "half-true                                                 80                      260                        3                       93                       81                      112\n",
      "pants-fire                                                 8                       99                        2                       25                       10                        5\n",
      "barely-true                                               45                      227                        2                       76                       29                       50\n",
      "mostly-true                                               75                      245                        4                       76                      127                      136\n",
      "\n",
      "📋 Classification Report:\n",
      "\n",
      "              precision    recall  f1-score   support\n",
      "\n",
      "        true      0.287     0.172     0.216       661\n",
      "       false      0.228     0.536     0.320       593\n",
      "   half-true      0.167     0.005     0.009       629\n",
      "  pants-fire      0.061     0.168     0.089       149\n",
      " barely-true      0.072     0.068     0.070       429\n",
      " mostly-true      0.270     0.205     0.233       663\n",
      "\n",
      "    accuracy                          0.200      3124\n",
      "   macro avg      0.181     0.192     0.156      3124\n",
      "weighted avg      0.208     0.200     0.172      3124\n",
      "\n"
     ]
    }
   ],
   "source": [
    "!python scripts_english/report.py \"./results_english/few_shot_all_en.json\""
   ]
  }
 ],
 "metadata": {
  "kernelspec": {
   "display_name": "base",
   "language": "python",
   "name": "python3"
  },
  "language_info": {
   "codemirror_mode": {
    "name": "ipython",
    "version": 3
   },
   "file_extension": ".py",
   "mimetype": "text/x-python",
   "name": "python",
   "nbconvert_exporter": "python",
   "pygments_lexer": "ipython3",
   "version": "3.13.2"
  }
 },
 "nbformat": 4,
 "nbformat_minor": 5
}
