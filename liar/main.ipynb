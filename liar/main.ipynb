{
 "cells": [
  {
   "cell_type": "markdown",
   "id": "27910239",
   "metadata": {},
   "source": [
    "Comando para saber em qual GPU o Ollama está rodando:"
   ]
  },
  {
   "cell_type": "code",
   "execution_count": 1,
   "id": "e8e5e18e",
   "metadata": {},
   "outputs": [],
   "source": [
    "!PID=$(pgrep -f 'ollama run') && nvidia-smi | grep \"$PID\""
   ]
  },
  {
   "cell_type": "markdown",
   "id": "05489e87",
   "metadata": {},
   "source": [
    "<strong>⚠️ Se o output ficar \"truncated\", selecione \"scrollable element\" para conseguir visualizar todo o conteúdo.</strong>\n"
   ]
  },
  {
   "cell_type": "markdown",
   "id": "0f015d72",
   "metadata": {},
   "source": [
    "1. LIAR - Resultados do Zero Shot (Only Statement)"
   ]
  },
  {
   "cell_type": "code",
   "execution_count": 2,
   "id": "3772f629",
   "metadata": {},
   "outputs": [
    {
     "name": "stdout",
     "output_type": "stream",
     "text": [
      "🔍 Processando test.jsonl\n",
      "🔍 Processando train.jsonl\n",
      "🔍 Processando valid.jsonl\n",
      "\n",
      "📊 Avaliação geral\n",
      "Claims comparadas: 11564\n",
      "Acertos exatos: 2397 (20.7%)\n",
      "\n",
      "\n",
      "📊 Matriz de Confusão (label verdadeiro × classificação do modelo):\n",
      "\n",
      "                                                        true                    false                half-true               pants-fire              barely-true              mostly-true\n",
      "true                                                     116                       99                     1267                      146                      167                       63\n",
      "false                                                     88                      118                     1372                      379                      231                       40\n",
      "half-true                                                129                       85                     1614                      277                      202                       68\n",
      "pants-fire                                                27                       53                      474                      303                       96                       11\n",
      "barely-true                                               75                       73                     1258                      279                      172                       40\n",
      "mostly-true                                              111                      104                     1549                      181                      223                       74\n",
      "\n",
      "📋 Classification Report:\n",
      "\n",
      "              precision    recall  f1-score   support\n",
      "\n",
      "        true      0.212     0.062     0.097      1858\n",
      "       false      0.222     0.053     0.086      2228\n",
      "   half-true      0.214     0.680     0.326      2375\n",
      "  pants-fire      0.194     0.314     0.240       964\n",
      " barely-true      0.158     0.091     0.115      1897\n",
      " mostly-true      0.250     0.033     0.058      2242\n",
      "\n",
      "    accuracy                          0.207     11564\n",
      "   macro avg      0.208     0.205     0.153     11564\n",
      "weighted avg      0.211     0.207     0.149     11564\n",
      "\n"
     ]
    }
   ],
   "source": [
    "!python scripts/report.py \"./results/zero_shot_only_statement.json\""
   ]
  },
  {
   "cell_type": "markdown",
   "id": "3fbeee49",
   "metadata": {},
   "source": [
    "2. LIAR - Resultados do Zero Shot (All)"
   ]
  },
  {
   "cell_type": "code",
   "execution_count": 3,
   "id": "3e4daccd",
   "metadata": {},
   "outputs": [
    {
     "name": "stdout",
     "output_type": "stream",
     "text": [
      "🔍 Processando test.jsonl\n",
      "🔍 Processando train.jsonl\n",
      "🔍 Processando valid.jsonl\n",
      "\n",
      "📊 Avaliação geral\n",
      "Claims comparadas: 12487\n",
      "Acertos exatos: 2678 (21.4%)\n",
      "\n",
      "\n",
      "📊 Matriz de Confusão (label verdadeiro × classificação do modelo):\n",
      "\n",
      "                                                        true                    false                half-true               pants-fire              barely-true              mostly-true\n",
      "true                                                      71                       23                     1498                      116                       70                      228\n",
      "false                                                     50                       41                     1749                      326                      139                      147\n",
      "half-true                                                 54                       30                     1909                      221                      104                      250\n",
      "pants-fire                                                15                       14                      605                      312                       64                       27\n",
      "barely-true                                               46                       27                     1520                      238                       95                      119\n",
      "mostly-true                                               53                       23                     1829                      135                       89                      250\n",
      "\n",
      "📋 Classification Report:\n",
      "\n",
      "              precision    recall  f1-score   support\n",
      "\n",
      "        true      0.246     0.035     0.062      2006\n",
      "       false      0.259     0.017     0.031      2452\n",
      "   half-true      0.210     0.743     0.327      2568\n",
      "  pants-fire      0.231     0.301     0.262      1037\n",
      " barely-true      0.169     0.046     0.073      2045\n",
      " mostly-true      0.245     0.105     0.147      2379\n",
      "\n",
      "    accuracy                          0.214     12487\n",
      "   macro avg      0.227     0.208     0.150     12487\n",
      "weighted avg      0.227     0.214     0.145     12487\n",
      "\n"
     ]
    }
   ],
   "source": [
    "!python scripts/report.py \"./results/zero_shot_all.json\""
   ]
  },
  {
   "cell_type": "markdown",
   "id": "a1e96985",
   "metadata": {},
   "source": [
    "3. LIAR - Resultados do Few Shot (Only Statement)"
   ]
  },
  {
   "cell_type": "code",
   "execution_count": 4,
   "id": "f3feb834",
   "metadata": {},
   "outputs": [
    {
     "name": "stdout",
     "output_type": "stream",
     "text": [
      "🔍 Processando test.jsonl\n",
      "🔍 Processando train.jsonl\n",
      "🔍 Processando valid.jsonl\n",
      "\n",
      "📊 Avaliação geral\n",
      "Claims comparadas: 12751\n",
      "Acertos exatos: 2284 (17.9%)\n",
      "\n",
      "\n",
      "📊 Matriz de Confusão (label verdadeiro × classificação do modelo):\n",
      "\n",
      "                                                        true                    false                half-true               pants-fire              barely-true              mostly-true\n",
      "true                                                     163                      552                      396                      609                      140                      189\n",
      "false                                                    108                      706                      435                     1004                      149                       83\n",
      "half-true                                                153                      723                      537                      828                      171                      203\n",
      "pants-fire                                                41                      274                      114                      565                       39                       14\n",
      "barely-true                                               87                      670                      364                      764                      116                      100\n",
      "mostly-true                                              143                      649                      534                      719                      212                      197\n",
      "\n",
      "📋 Classification Report:\n",
      "\n",
      "              precision    recall  f1-score   support\n",
      "\n",
      "        true      0.235     0.080     0.119      2049\n",
      "       false      0.198     0.284     0.233      2485\n",
      "   half-true      0.226     0.205     0.215      2615\n",
      "  pants-fire      0.126     0.540     0.204      1047\n",
      " barely-true      0.140     0.055     0.079      2101\n",
      " mostly-true      0.251     0.080     0.122      2454\n",
      "\n",
      "    accuracy                          0.179     12751\n",
      "   macro avg      0.196     0.207     0.162     12751\n",
      "weighted avg      0.204     0.179     0.162     12751\n",
      "\n"
     ]
    }
   ],
   "source": [
    "!python scripts/report.py \"./results/few_shot_only_statement.json\""
   ]
  },
  {
   "cell_type": "markdown",
   "id": "04efcdc2",
   "metadata": {},
   "source": [
    "4. LIAR - Resultados do Few Shot (All)"
   ]
  },
  {
   "cell_type": "code",
   "execution_count": 5,
   "id": "d6f414f2",
   "metadata": {},
   "outputs": [
    {
     "name": "stdout",
     "output_type": "stream",
     "text": [
      "🔍 Processando test.jsonl\n",
      "🔍 Processando train.jsonl\n",
      "🔍 Processando valid.jsonl\n",
      "\n",
      "📊 Avaliação geral\n",
      "Claims comparadas: 12778\n",
      "Acertos exatos: 2664 (20.8%)\n",
      "\n",
      "\n",
      "📊 Matriz de Confusão (label verdadeiro × classificação do modelo):\n",
      "\n",
      "                                                        true                    false                half-true               pants-fire              barely-true              mostly-true\n",
      "true                                                     573                      571                      188                      215                      322                      182\n",
      "false                                                    470                      890                      242                      355                      414                      132\n",
      "half-true                                                564                      774                      275                      272                      476                      262\n",
      "pants-fire                                               120                      399                       53                      293                      162                       20\n",
      "barely-true                                              384                      733                      195                      288                      375                      127\n",
      "mostly-true                                              622                      639                      256                      218                      459                      258\n",
      "\n",
      "📋 Classification Report:\n",
      "\n",
      "              precision    recall  f1-score   support\n",
      "\n",
      "        true      0.210     0.279     0.240      2051\n",
      "       false      0.222     0.356     0.273      2503\n",
      "   half-true      0.227     0.105     0.144      2623\n",
      "  pants-fire      0.179     0.280     0.218      1047\n",
      " barely-true      0.170     0.178     0.174      2102\n",
      " mostly-true      0.263     0.105     0.150      2452\n",
      "\n",
      "    accuracy                          0.208     12778\n",
      "   macro avg      0.212     0.217     0.200     12778\n",
      "weighted avg      0.217     0.208     0.197     12778\n",
      "\n"
     ]
    }
   ],
   "source": [
    "!python scripts/report.py \"./results/few_shot_all.json\""
   ]
  }
 ],
 "metadata": {
  "kernelspec": {
   "display_name": "base",
   "language": "python",
   "name": "python3"
  },
  "language_info": {
   "codemirror_mode": {
    "name": "ipython",
    "version": 3
   },
   "file_extension": ".py",
   "mimetype": "text/x-python",
   "name": "python",
   "nbconvert_exporter": "python",
   "pygments_lexer": "ipython3",
   "version": "3.13.2"
  }
 },
 "nbformat": 4,
 "nbformat_minor": 5
}
